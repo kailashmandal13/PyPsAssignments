{
 "cells": [
  {
   "cell_type": "raw",
   "id": "9e7d8ef9-a7b5-4a4c-82d7-154a545be37d",
   "metadata": {},
   "source": [
    "(1) for comments generally we use #\n",
    "    Other ways of commenting code:\n",
    "    1. # single line comments,\n",
    "    2. \"\"\" multi\n",
    "           line\n",
    "           comment\n",
    "       \"\"\"\n"
   ]
  },
  {
   "cell_type": "code",
   "execution_count": null,
   "id": "812bc22e-c2e2-417c-b1fa-ea6554a83281",
   "metadata": {},
   "outputs": [],
   "source": []
  },
  {
   "cell_type": "raw",
   "id": "e00f0e3f-f04c-41b1-92f2-46e3961defdc",
   "metadata": {},
   "source": [
    "(2) Variables- Var is basically a name that refers to a value or an object in any memory location, which is used to store or represent data.\n",
    "\n",
    "declare & assign values in var:\n",
    "In python variables are dynamically typed, thus we need not to explicitly declare the variable type. We can directly assign the value to the var.\n",
    "eg-"
   ]
  },
  {
   "cell_type": "code",
   "execution_count": 5,
   "id": "d803a846-1a8e-4ab3-b192-3ad10f0179fd",
   "metadata": {},
   "outputs": [
    {
     "name": "stdout",
     "output_type": "stream",
     "text": [
      "<class 'float'>\n",
      "<class 'str'>\n",
      "<class 'bool'>\n",
      "<class 'complex'>\n",
      "<class 'list'>\n"
     ]
    }
   ],
   "source": [
    "num = 100\n",
    "fl = 944444444444444444444444444.6666666666666666666666666666666666666666666666666666666666666666\n",
    "St = \"string value\"\n",
    "b = True\n",
    "cx = 100+99j\n",
    "ls = [100, 94.6, \"string\", cx, True, 100+101j]\n",
    "\n",
    "print(type(fl), type(St), type(b), type(cx), type(ls), sep=\"\\n\")"
   ]
  },
  {
   "cell_type": "code",
   "execution_count": null,
   "id": "1280f879-62a0-487d-be13-4970a25d3a78",
   "metadata": {},
   "outputs": [],
   "source": []
  },
  {
   "cell_type": "code",
   "execution_count": 20,
   "id": "a6569f2b-aa35-4644-838a-61a282283848",
   "metadata": {},
   "outputs": [
    {
     "name": "stdout",
     "output_type": "stream",
     "text": [
      "1001\n",
      "<class 'str'>\n",
      "1001\n",
      "<class 'int'>\n",
      "1001.0\n",
      "<class 'float'>\n",
      "1001.0\n",
      "<class 'str'>\n",
      "True\n",
      "<class 'bool'>\n",
      "[59595, '1001.0', '1001', 545.32555, 'ddrgdg', (859+51j), 1001, True, ('a', 9)]\n",
      "<class 'list'>\n",
      "(59595, '1001.0', '1001', 545.32555, 'ddrgdg', (859+51j), 1001, True, ('a', 9))\n",
      "<class 'tuple'>\n"
     ]
    }
   ],
   "source": [
    "# (3) Type Casting in python using built-in converson functions:\n",
    "\n",
    "# int()\n",
    "ns = \"1001\"\n",
    "n = int(ns)\n",
    "f = float(ns)\n",
    "s = str(f)\n",
    "b = bool(n)\n",
    "print(ns,type(ns),n,type(n),f,type(f), s,type(s),b,type(b), sep = '\\n')\n",
    "\n",
    "obj = (59595, s, ns, 545.32555, \"ddrgdg\", 859+51j, n, b, (\"a\",9))\n",
    "l = list(obj)\n",
    "t = tuple(obj)\n",
    "print(l,type(l),t,type(t), sep = '\\n')\n"
   ]
  },
  {
   "cell_type": "code",
   "execution_count": null,
   "id": "27c094c0-fa11-4f0f-a488-06ebf44fd695",
   "metadata": {},
   "outputs": [],
   "source": []
  },
  {
   "cell_type": "raw",
   "id": "7df07b51-d5c7-4ac4-b971-33894f04b15a",
   "metadata": {},
   "source": [
    "(4) Python script execute from cmd line:\n",
    "    1.write python script in any text editor eg- sublime text\n",
    "    2.save file as \".py\". note that directory path for retrival in cmd.\n",
    "    3.in cmd prompt naviagte to file directory using cmd \"cd\" (to changed directory) eg- cd C:\\user\\myusername\\..\\prog.py\n",
    "    4.run using python cmd followed by filename, eg- python prog.py\n",
    "    5.output will be displayed in the console.\n"
   ]
  },
  {
   "cell_type": "code",
   "execution_count": null,
   "id": "0b9a9ea5-8a26-4299-a2dd-fafbcaa3b185",
   "metadata": {},
   "outputs": [],
   "source": []
  },
  {
   "cell_type": "code",
   "execution_count": 23,
   "id": "bcc53c50-96a3-4269-88d2-07691709ac4d",
   "metadata": {},
   "outputs": [
    {
     "data": {
      "text/plain": [
       "[2, 3]"
      ]
     },
     "execution_count": 23,
     "metadata": {},
     "output_type": "execute_result"
    }
   ],
   "source": [
    "# (5)slice sublist\n",
    "\n",
    "my_list = [1, 2, 3, 4, 5]\n",
    "sub_list = my_list[1:3]\n",
    "sub_list"
   ]
  },
  {
   "cell_type": "code",
   "execution_count": null,
   "id": "61cbcc98-f418-44ca-a885-e3a77a365f3b",
   "metadata": {},
   "outputs": [],
   "source": []
  },
  {
   "cell_type": "code",
   "execution_count": 24,
   "id": "3cb7a0e9-edf3-45a6-816c-31075caf4f24",
   "metadata": {},
   "outputs": [
    {
     "name": "stdout",
     "output_type": "stream",
     "text": [
      "(5-33j) (99+100j)\n"
     ]
    }
   ],
   "source": [
    "\"\"\" (6) Complex Number: Class of number system where every number in the form \"a + Ib\", \n",
    "        where a is real part, b is imaginary part & I is repn as imaginary unit.\n",
    "        \n",
    "        In python, complex no. can be repn using 'complex()' or using 'j' suffix\n",
    "\"\"\"\n",
    "z1 = 5-33j\n",
    "z2 = complex(99,100)\n",
    "print(z1,z2)"
   ]
  },
  {
   "cell_type": "code",
   "execution_count": null,
   "id": "dec2f6ec-5630-49d4-b7c6-b8d852c92255",
   "metadata": {},
   "outputs": [],
   "source": []
  },
  {
   "cell_type": "code",
   "execution_count": 25,
   "id": "79bd8007-2343-4d74-82af-1ce12a1b4687",
   "metadata": {},
   "outputs": [
    {
     "name": "stdout",
     "output_type": "stream",
     "text": [
      "25 <class 'int'>\n"
     ]
    }
   ],
   "source": [
    "# (7) assing value\n",
    "age = 25\n",
    "print(age, type(age))"
   ]
  },
  {
   "cell_type": "code",
   "execution_count": 29,
   "id": "d00c52ef-d9c6-4dab-87f8-f1fd478d104d",
   "metadata": {},
   "outputs": [
    {
     "name": "stdout",
     "output_type": "stream",
     "text": [
      "9.99 -this var belong to : <class 'float'>\n"
     ]
    }
   ],
   "source": [
    "# (8) assing float value\n",
    "price = 9.99\n",
    "print(price, \"-this var belong to :\",type(price))"
   ]
  },
  {
   "cell_type": "code",
   "execution_count": 30,
   "id": "bd1bbc39-fa4a-4063-ad47-5a4b5c1cc2fb",
   "metadata": {},
   "outputs": [
    {
     "name": "stdout",
     "output_type": "stream",
     "text": [
      "Kailash Nath Mandal <class 'str'>\n"
     ]
    }
   ],
   "source": [
    "# (9) assing sting value\n",
    "name = \"Kailash Nath Mandal\"\n",
    "print(name, type(name))"
   ]
  },
  {
   "cell_type": "code",
   "execution_count": null,
   "id": "3c90d618-d3b1-4009-9d42-b8c695924be6",
   "metadata": {},
   "outputs": [],
   "source": []
  },
  {
   "cell_type": "code",
   "execution_count": 33,
   "id": "606ed328-146f-44bc-bb89-c405f6bf2058",
   "metadata": {},
   "outputs": [
    {
     "name": "stdout",
     "output_type": "stream",
     "text": [
      "World\n"
     ]
    }
   ],
   "source": [
    "'''(10) extract substring '''\n",
    "\n",
    "pw = \"Hello, World!\"\n",
    "print(pw[7:-1])\n"
   ]
  },
  {
   "cell_type": "code",
   "execution_count": 38,
   "id": "eceb47d8-cfc7-407b-ab76-e8db4539a988",
   "metadata": {},
   "outputs": [
    {
     "name": "stdout",
     "output_type": "stream",
     "text": [
      "True <class 'bool'>\n"
     ]
    }
   ],
   "source": [
    "is_student = bool(101)\n",
    "print(is_student, type(is_student))"
   ]
  },
  {
   "cell_type": "code",
   "execution_count": null,
   "id": "5d074c9e-d36f-4537-93e0-8017c4572c3a",
   "metadata": {},
   "outputs": [],
   "source": []
  }
 ],
 "metadata": {
  "kernelspec": {
   "display_name": "Python 3 (ipykernel)",
   "language": "python",
   "name": "python3"
  },
  "language_info": {
   "codemirror_mode": {
    "name": "ipython",
    "version": 3
   },
   "file_extension": ".py",
   "mimetype": "text/x-python",
   "name": "python",
   "nbconvert_exporter": "python",
   "pygments_lexer": "ipython3",
   "version": "3.10.8"
  }
 },
 "nbformat": 4,
 "nbformat_minor": 5
}
