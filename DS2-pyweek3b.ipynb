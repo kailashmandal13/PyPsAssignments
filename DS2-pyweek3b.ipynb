{
 "cells": [
  {
   "cell_type": "code",
   "execution_count": 64,
   "id": "7d94f872-67bc-49fd-b4ef-729e62e50258",
   "metadata": {},
   "outputs": [
    {
     "name": "stdout",
     "output_type": "stream",
     "text": [
      "[('Virat Kohli', 24936), ('Jack Kallis', 25534), ('Ricky Ponting', 27483), ('Sachin Tendulkar', 34357)]\n"
     ]
    }
   ],
   "source": [
    "#1 sort the given list of tuples based on integer value using a lambda function\n",
    "\n",
    "data = [('Sachin Tendulkar', 34357), ('Ricky Ponting', 27483), ('Jack Kallis', 25534), ('Virat Kohli', 24936)]\n",
    "\n",
    "sorted_data = sorted(data, key=lambda k: k[-1])\n",
    "l = []\n",
    "for i in sorted_data:\n",
    "    l.append(i)\n",
    "print(l)\n"
   ]
  },
  {
   "cell_type": "code",
   "execution_count": null,
   "id": "3929ba4a-698e-4910-8523-303f4d182f0e",
   "metadata": {},
   "outputs": [],
   "source": []
  },
  {
   "cell_type": "code",
   "execution_count": 3,
   "id": "96495c75-e72c-43cc-a180-aea664d646e6",
   "metadata": {},
   "outputs": [
    {
     "data": {
      "text/plain": [
       "[1, 4, 9, 16, 25, 36, 49, 64, 81, 100]"
      ]
     },
     "execution_count": 3,
     "metadata": {},
     "output_type": "execute_result"
    }
   ],
   "source": [
    "#2 the squares of all the numbers, integers using lambda and map functions.\n",
    "\n",
    "num = [1, 2, 3, 4, 5, 6, 7, 8, 9, 10]\n",
    "list(map(lambda n: n**2, num))"
   ]
  },
  {
   "cell_type": "code",
   "execution_count": null,
   "id": "293cd5f4-a8e0-47dd-9b34-7783eb2e4667",
   "metadata": {},
   "outputs": [],
   "source": []
  },
  {
   "cell_type": "code",
   "execution_count": 12,
   "id": "fe005af8-c496-47a3-987d-d0be65b67f38",
   "metadata": {},
   "outputs": [
    {
     "data": {
      "text/plain": [
       "('1', '2', '3', '4', '5', '6', '7', '8', '9', '10')"
      ]
     },
     "execution_count": 12,
     "metadata": {},
     "output_type": "execute_result"
    }
   ],
   "source": [
    "#3 convert the given list of integers into a tuple of strings. Use map and lambda functions\n",
    "\n",
    "ls = [1, 2, 3, 4, 5, 6, 7, 8, 9, 10]\n",
    "'''for i in ls:\n",
    "    print(tuple(str(i)))'''\n",
    "\n",
    "tuple(map(lambda x: str(x), ls))\n"
   ]
  },
  {
   "cell_type": "code",
   "execution_count": null,
   "id": "eb45d342-cffa-44f2-b4d8-497584e021c3",
   "metadata": {},
   "outputs": [],
   "source": []
  },
  {
   "cell_type": "code",
   "execution_count": 15,
   "id": "616f62f3-9c97-46da-8500-61a972bb83f1",
   "metadata": {},
   "outputs": [
    {
     "data": {
      "text/plain": [
       "15511210043330985984000000"
      ]
     },
     "execution_count": 15,
     "metadata": {},
     "output_type": "execute_result"
    }
   ],
   "source": [
    "#4 using reduce function to compute the product of a list containing numbers from 1 to 25.\n",
    "\n",
    "from functools import reduce\n",
    "l2 = []\n",
    "for i in range(1,26):\n",
    "    l2.append(i)\n",
    "reduce(lambda a,b: a*b, l2)"
   ]
  },
  {
   "cell_type": "code",
   "execution_count": null,
   "id": "3994e564-743c-4be7-a68a-c6d2c0e33a35",
   "metadata": {},
   "outputs": [],
   "source": []
  },
  {
   "cell_type": "code",
   "execution_count": 17,
   "id": "95590066-3474-4a80-bb50-d5e2931b1a3d",
   "metadata": {},
   "outputs": [
    {
     "data": {
      "text/plain": [
       "[6, 60, 90, 120]"
      ]
     },
     "execution_count": 17,
     "metadata": {},
     "output_type": "execute_result"
    }
   ],
   "source": [
    "#5 filter the numbers in a given list that are divisible by 2 and 3 using the filter function\n",
    "\n",
    "l3 = [2, 3, 6, 9, 27, 60, 90, 120, 55, 46]\n",
    "list(filter(lambda k: k%2 == 0 and k%3 == 0, l3))"
   ]
  },
  {
   "cell_type": "code",
   "execution_count": 22,
   "id": "fa604966-aab6-43ff-8907-c041d0f7028d",
   "metadata": {},
   "outputs": [
    {
     "name": "stdout",
     "output_type": "stream",
     "text": [
      "palindromes here are:  ['php', 'aba', 'radar', 'level']\n"
     ]
    }
   ],
   "source": [
    "#6 program to find palindromes in the given list of strings using lambda and filter function.\n",
    "\n",
    "l4 = ['python', 'php', 'aba', 'radar', 'level']\n",
    "\n",
    "print(\"palindromes here are: \",list(filter(lambda s: s == s[::-1], l4)))"
   ]
  },
  {
   "cell_type": "code",
   "execution_count": null,
   "id": "2e82feb5-7564-42d7-9285-12ebe73abe39",
   "metadata": {},
   "outputs": [],
   "source": []
  },
  {
   "cell_type": "code",
   "execution_count": 19,
   "id": "d5c1d38d-4759-4657-9215-250b52766562",
   "metadata": {},
   "outputs": [
    {
     "data": {
      "text/plain": [
       "'nohtyp'"
      ]
     },
     "execution_count": 19,
     "metadata": {},
     "output_type": "execute_result"
    }
   ],
   "source": [
    "s='python'\n",
    "s[::-1]"
   ]
  },
  {
   "cell_type": "code",
   "execution_count": null,
   "id": "312c8649-9a1e-489b-ba86-271cc977dd0e",
   "metadata": {},
   "outputs": [],
   "source": []
  }
 ],
 "metadata": {
  "kernelspec": {
   "display_name": "Python 3 (ipykernel)",
   "language": "python",
   "name": "python3"
  },
  "language_info": {
   "codemirror_mode": {
    "name": "ipython",
    "version": 3
   },
   "file_extension": ".py",
   "mimetype": "text/x-python",
   "name": "python",
   "nbconvert_exporter": "python",
   "pygments_lexer": "ipython3",
   "version": "3.10.8"
  }
 },
 "nbformat": 4,
 "nbformat_minor": 5
}
