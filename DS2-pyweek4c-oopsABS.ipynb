{
 "cells": [
  {
   "cell_type": "code",
   "execution_count": 2,
   "id": "7e5ca2c2-9f9f-455c-8caf-c62119e0e336",
   "metadata": {},
   "outputs": [
    {
     "name": "stdout",
     "output_type": "stream",
     "text": [
      "200.96\n",
      "50.24\n"
     ]
    }
   ],
   "source": [
    "#1 Abstraction:\n",
    "'''Abstraction is achieved through use of abstravt class & interfaces. It aloows to show only the essential aspects\n",
    "   and hiding unnecessary details in the class.\n",
    "   -abstract class is a class that cannot be instantiated directly. It serves as a blueprint for other classes and \n",
    "     defines common attributes and methods that subclasses can inherit and implement.\n",
    "   -Abstract method is method declared in an abstract class that does not have an implementation in the abstract class. \n",
    "     Child classes that inherited from the abstract class are required to provide an implementation for the abstract methods.\n",
    "'''\n",
    "\n",
    "import abc\n",
    "\n",
    "class Shape():\n",
    "    \n",
    "    @abc.abstractmethod\n",
    "    def area(self):\n",
    "        pass\n",
    "\n",
    "    @abc.abstractmethod\n",
    "    def perimeter(self):\n",
    "        pass\n",
    "\n",
    "class Circle(Shape):\n",
    "    def __init__(self, rad):\n",
    "        self.radius = rad\n",
    "\n",
    "    def area(self):\n",
    "        return 3.14 * self.radius ** 2\n",
    "\n",
    "    def perimeter(self):\n",
    "        return 2 * 3.14 * self.radius\n",
    "\n",
    "new_circle = Circle(8)\n",
    "print(new_circle.area()) \n",
    "print(new_circle.perimeter()) \n"
   ]
  },
  {
   "cell_type": "code",
   "execution_count": null,
   "id": "8b080fd0-7cb6-43e4-a6e5-752230ceb519",
   "metadata": {},
   "outputs": [],
   "source": []
  },
  {
   "cell_type": "code",
   "execution_count": 22,
   "id": "e78bb373-6ff4-4707-9f0e-f6f0d21bc2c8",
   "metadata": {},
   "outputs": [
    {
     "name": "stdout",
     "output_type": "stream",
     "text": [
      "Candidate name is:  rohan\n",
      "92\n",
      "Your score in DS is= 92\n",
      "Passed Successfully\n",
      "\n",
      " for candidate 2 using same abstract class:\n",
      "\n",
      "\n",
      "Pragya Passed successfully\n",
      "Riya failed\n",
      "100% fee return\n"
     ]
    }
   ],
   "source": [
    "#2 Differentiate between Abstraction and Encapsulation.\n",
    "\n",
    "\"\"\"Abstraction:\n",
    "\n",
    "-Abstraction is representing only the essential aspects and hiding unnecessary details.\n",
    "-displaying the essential methods or func, while hiding the implementation details.\n",
    "-Abstraction is achieved through abstract classes, interfaces, and the declaration of abstract methods.\n",
    "\n",
    "Encapsulation:\n",
    "\n",
    "-Encapsulation is the bundling of attributes and methods together within a class, and controlling access to them or visibility.\n",
    "-data hiding, where the internal workings and implementation details of an object are hidden from the external users.\n",
    "-Encapsulation ensures that an object's data is accessed and modified only through the defined methods (getters and\n",
    "  setters).\n",
    "\"\"\"\n",
    "\n",
    "\n",
    "import abc\n",
    "\n",
    "class student():                                                   ## abstract class\n",
    "\n",
    "    @abc.abstractmethod\n",
    "    def student_details(self):\n",
    "        pass\n",
    "\n",
    "    @abc.abstractmethod\n",
    "    def student_result(self):\n",
    "        pass\n",
    "    \n",
    "    @abc.abstractmethod\n",
    "    def feedback(self):\n",
    "        pass\n",
    "\n",
    "\n",
    "class DSMasters(student):\n",
    "    \n",
    "    def __init__(self, name, score, course):                                 \n",
    "        self.name = name\n",
    "        self.__score = score                                            ## encapsulated\n",
    "        self.__course = course\n",
    "        \n",
    "\n",
    "    def student_details(self):\n",
    "        print(\"Candidate name is: \",self.name)\n",
    "        \n",
    "    def student_result(self):\n",
    "        if self.__score >= 80:\n",
    "            print(\"Your score in DS is=\",self.__score)\n",
    "            print(\"Passed Successfully\")\n",
    "        else:\n",
    "            print(\"Try again, for better grades\")\n",
    "\n",
    "class WebDev(student):\n",
    "    \n",
    "    def __init__(self, name, score, course):\n",
    "        self.name = name\n",
    "        self.__score = score\n",
    "        self.__course = course\n",
    "\n",
    "    def student_result(self):\n",
    "        if self.__score >=60:\n",
    "            print(self.name,\"Passed successfully\")\n",
    "        else:\n",
    "            print(self.name,\"failed\")\n",
    "            \n",
    "    def feedback(self):\n",
    "        if self.__score <=30:\n",
    "            print(\"100% fee return\")\n",
    "        \n",
    "        \n",
    "stud1 = DSMasters(\"rohan\", 92, \"DS AI\")\n",
    "stud1.student_details()\n",
    "print(stud1._DSMasters__score)\n",
    "stud1.student_result()\n",
    "\n",
    "print(\"\\n for candidate 2 using same abstract class:\\n\\n\")\n",
    "\n",
    "stud2 = WebDev(\"Pragya\", 65, \"webdevp\")\n",
    "stud2.student_result()\n",
    "\n",
    "stud3 = WebDev(\"Riya\", 30, \"js\")\n",
    "stud3.student_result()\n",
    "stud3.feedback()"
   ]
  },
  {
   "cell_type": "code",
   "execution_count": null,
   "id": "9dc09fa3-8557-4912-a8a2-92238ec0f6b8",
   "metadata": {},
   "outputs": [],
   "source": []
  },
  {
   "cell_type": "code",
   "execution_count": null,
   "id": "d2a67e57-b8d0-41d0-804e-b5af3acf81d9",
   "metadata": {},
   "outputs": [],
   "source": [
    "#3 \"abc module\":\n",
    "'''\n",
    "\"Abstract Base Classes\" - provides the mechanism for defining abstract base classes (ABCs) in Python.\n",
    "-abc module is used for creating abstract base classes, which are classes that cannot be instantiated directly \n",
    "-act as a blueprint for other classes. \n",
    "-Abstract base classes define a common interface or a set of methods that subclasses are expected to implement\n",
    "\n",
    "##purpose of use:\n",
    "-Defining a Common Interface\n",
    "-Abstract base classes enable polymorphism\n",
    "-code reuseablity\n",
    "\n",
    "eg-to import abc module we use syntax:    \"import abc\"\n",
    "code- implemented above same eg.\n",
    "'''"
   ]
  },
  {
   "cell_type": "code",
   "execution_count": null,
   "id": "5902caf9-854c-46d6-a678-72549415c958",
   "metadata": {},
   "outputs": [],
   "source": []
  },
  {
   "cell_type": "code",
   "execution_count": null,
   "id": "52682a7f-b83d-499f-8c33-3c98049b3a33",
   "metadata": {},
   "outputs": [],
   "source": [
    "#4 data abstraction can be achieved by:\n",
    "'''\n",
    "1. Abstract Base Class (ABC)\n",
    "2. Encapsulate Data- private(__), protected(_)\n",
    "3. by providing Getter and Setter Methods\n",
    "'''\n"
   ]
  },
  {
   "cell_type": "code",
   "execution_count": null,
   "id": "3235d626-4cd5-4f8f-953b-4fd152eb8024",
   "metadata": {},
   "outputs": [],
   "source": []
  },
  {
   "cell_type": "raw",
   "id": "e4295dde-bbe2-4274-a435-bf37bd196b17",
   "metadata": {},
   "source": [
    "#5 Can we create an instance of an abstract class?\n",
    "\n",
    "No, Theorytically we cannot create an instance of an abstract class in Python.\n",
    "But in practical Instantiating the abstract class does not raise an error --> However, attempting to call the abstract method will raise an error!! cuz its meaningless.\n",
    "An abstract class is a class that is meant to be subclassed and act as a blueprint for other classes. \n",
    "It cannot be instantiated directly because it is incomplete and may contain abstract methods that have no implementation.\n",
    "\n",
    "\n"
   ]
  },
  {
   "cell_type": "code",
   "execution_count": 33,
   "id": "7d69d2fc-7422-4d2a-883d-a4358dba68e0",
   "metadata": {},
   "outputs": [
    {
     "ename": "TypeError",
     "evalue": "Can't instantiate abstract class AbstractClass with abstract method abstract_method",
     "output_type": "error",
     "traceback": [
      "\u001b[0;31m---------------------------------------------------------------------------\u001b[0m",
      "\u001b[0;31mTypeError\u001b[0m                                 Traceback (most recent call last)",
      "Cell \u001b[0;32mIn[33], line 9\u001b[0m\n\u001b[1;32m      6\u001b[0m         \u001b[38;5;28;01mpass\u001b[39;00m\n\u001b[1;32m      8\u001b[0m \u001b[38;5;66;03m# Creating an instance of the abstract class\u001b[39;00m\n\u001b[0;32m----> 9\u001b[0m my_instance \u001b[38;5;241m=\u001b[39m \u001b[43mAbstractClass\u001b[49m\u001b[43m(\u001b[49m\u001b[43m)\u001b[49m\n\u001b[1;32m     11\u001b[0m \u001b[38;5;66;03m# Instantiating the abstract class does not raise an error\u001b[39;00m\n\u001b[1;32m     12\u001b[0m \u001b[38;5;66;03m# However, attempting to call the abstract method will raise an error\u001b[39;00m\n\u001b[1;32m     13\u001b[0m my_instance\u001b[38;5;241m.\u001b[39mabstract_method()  \u001b[38;5;66;03m# Error: TypeError: Can't instantiate abstract class AbstractClass with abstract methods abstract_method\u001b[39;00m\n",
      "\u001b[0;31mTypeError\u001b[0m: Can't instantiate abstract class AbstractClass with abstract method abstract_method"
     ]
    }
   ],
   "source": [
    "from abc import abstractmethod\n",
    "\n",
    "class AbstractClass(ABC):\n",
    "    @abstractmethod\n",
    "    def abstract_method(self):\n",
    "        pass\n",
    "\n",
    "# Creating an instance of the abstract class\n",
    "my_instance = AbstractClass()\n",
    "\n",
    "# Instantiating the abstract class does not raise an error\n",
    "# However, attempting to call the abstract method will raise an error\n",
    "my_instance.abstract_method()  \n",
    "# Error: TypeError: Can't instantiate abstract class AbstractClass with abstract methods abstract_method\n"
   ]
  },
  {
   "cell_type": "code",
   "execution_count": null,
   "id": "b4524d76-1a24-4648-97c0-08996de7282d",
   "metadata": {},
   "outputs": [],
   "source": []
  }
 ],
 "metadata": {
  "kernelspec": {
   "display_name": "Python 3 (ipykernel)",
   "language": "python",
   "name": "python3"
  },
  "language_info": {
   "codemirror_mode": {
    "name": "ipython",
    "version": 3
   },
   "file_extension": ".py",
   "mimetype": "text/x-python",
   "name": "python",
   "nbconvert_exporter": "python",
   "pygments_lexer": "ipython3",
   "version": "3.10.8"
  }
 },
 "nbformat": 4,
 "nbformat_minor": 5
}
