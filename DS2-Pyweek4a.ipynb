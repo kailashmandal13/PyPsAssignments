{
 "cells": [
  {
   "cell_type": "code",
   "execution_count": 11,
   "id": "87dd0770-850e-44be-a187-548ee661aba1",
   "metadata": {},
   "outputs": [
    {
     "data": {
      "text/plain": [
       "('Lamborghini Aventador', '350kmph', 8)"
      ]
     },
     "execution_count": 11,
     "metadata": {},
     "output_type": "execute_result"
    }
   ],
   "source": [
    "#1 Create a vehicle class with an init method having instance variables as \n",
    "#  name_of_vehicle, max_speed and average_of_vehicle.\n",
    "\n",
    "class vehicle:\n",
    "    def __init__(self, vc_name, maxspeed, mileage):\n",
    "        self.name_of_vehicle = vc_name\n",
    "        self.max_speed = maxspeed\n",
    "        self.average_of_vehicle = mileage\n",
    "    def display(self):\n",
    "        return self.name_of_vehicle,self.max_speed,self.average_of_vehicle\n",
    "#create object\n",
    "mycar = vehicle('Lamborghini Aventador', '350kmph', 8)\n",
    "mycar.display()\n",
    "        "
   ]
  },
  {
   "cell_type": "code",
   "execution_count": null,
   "id": "68c1ebb3-3cd8-4cd6-a43e-b11d2ef184f4",
   "metadata": {},
   "outputs": [],
   "source": []
  },
  {
   "cell_type": "code",
   "execution_count": 25,
   "id": "30458927-af8d-4ca3-99df-0a4a1a8e4dec",
   "metadata": {},
   "outputs": [
    {
     "data": {
      "text/plain": [
       "'name of vehicle : Lamborghini Aventador, its capacity is : 6000cc'"
      ]
     },
     "execution_count": 25,
     "metadata": {},
     "output_type": "execute_result"
    }
   ],
   "source": [
    "#2 Create a child class car from the vehicle class created in Que 1, which will inherit the vehicle class.\n",
    "#  Create a method named seating_capacity which takes capacity as an argument and returns the name of\n",
    "#  the vehicle and its seating capacity.\n",
    "\n",
    "class car(vehicle):\n",
    "        \n",
    "    def seating_capacity(self, capacity):\n",
    "        return f\"name of vehicle : {self.name_of_vehicle}, its capacity is : {capacity}\"\n",
    "    \n",
    "carobj = car('Lamborghini Aventador', '350kmph', 8)\n",
    "carobj.seating_capacity('6000cc')\n",
    "    \n",
    "\n",
    "\n",
    "\n"
   ]
  },
  {
   "cell_type": "code",
   "execution_count": null,
   "id": "b7ab17a7-c9d6-484a-873f-06d3f36e2971",
   "metadata": {},
   "outputs": [],
   "source": []
  },
  {
   "cell_type": "code",
   "execution_count": 27,
   "id": "59c9e059-8248-425f-a8e0-fd3ae6b182ce",
   "metadata": {},
   "outputs": [
    {
     "name": "stdout",
     "output_type": "stream",
     "text": [
      "nibba: wating reels..\n",
      "baap: nalayak khi ka!\n",
      "mummy: raja beta..\n"
     ]
    }
   ],
   "source": [
    "#3 multiple inheritance:\n",
    "'''a class inherits from multiple base classes. \n",
    "   The derived class combines the attributes and methods from all the base classes.'''\n",
    "\n",
    "class daddy:\n",
    "    def baap(self):\n",
    "        return \"baap: nalayak khi ka!\"\n",
    "\n",
    "class mommy:\n",
    "    def mom(self):\n",
    "        return \"mummy: raja beta..\"\n",
    "\n",
    "class beta(daddy, mommy):\n",
    "    def nibba(self):\n",
    "        return \"nibba: wating reels..\"\n",
    "\n",
    "obj_beta = beta()\n",
    "print(obj_beta.nibba())\n",
    "print(obj_beta.baap())\n",
    "print(obj_beta.mom())"
   ]
  },
  {
   "cell_type": "code",
   "execution_count": null,
   "id": "ff9720b0-7e8f-4e55-aacb-81a9361728b9",
   "metadata": {},
   "outputs": [],
   "source": []
  },
  {
   "cell_type": "code",
   "execution_count": 35,
   "id": "88e51a8a-4698-4a5b-9459-6d411dda2424",
   "metadata": {},
   "outputs": [
    {
     "name": "stdout",
     "output_type": "stream",
     "text": [
      "kailash\n",
      "Muskan\n",
      "Display stud1 Course: DS\n",
      "Display stud2 Course: AI\n"
     ]
    }
   ],
   "source": [
    "#4getter and setter:\n",
    "\n",
    "''' getter methods: to retrieve the values of the attributes.\n",
    "    setter methods: to modify them.'''\n",
    "''' Getters and setters provide a level of encapsulation by controlling access to class attributes.'''\n",
    "\n",
    "class Pwskills:\n",
    "    def __init__(self, name, course):\n",
    "        self._name = name\n",
    "        self._course = course\n",
    "\n",
    "    @property\n",
    "    def name(self):\n",
    "        return self._name\n",
    "\n",
    "    @name.setter\n",
    "    def name(self, student_name):\n",
    "        self._name = student_name\n",
    "\n",
    "    @property\n",
    "    def course(self):\n",
    "        return self._course\n",
    "\n",
    "    @course.setter\n",
    "    def course(self, skills):\n",
    "        if skills in {'DS', \"AI\", \"NLP\"}:\n",
    "            self._course = skills\n",
    "\n",
    "stud = Pwskills(\"kailash\", 'DS')\n",
    "print(stud.name) \n",
    "\n",
    "stud.name = \"Muskan\"\n",
    "print(stud.name)\n",
    "\n",
    "print(\"Display stud1 Course:\", stud.course)\n",
    "\n",
    "stud.course = 'AI'\n",
    "print(\"Display stud2 Course:\", stud.course) \n"
   ]
  },
  {
   "cell_type": "code",
   "execution_count": null,
   "id": "735663e1-3985-45e5-ac57-323c31ac2472",
   "metadata": {},
   "outputs": [],
   "source": []
  },
  {
   "cell_type": "code",
   "execution_count": null,
   "id": "685fb6f4-ef4f-433a-ae03-d68cca728918",
   "metadata": {},
   "outputs": [],
   "source": [
    "#5 Method overriding:\n",
    "'''derived class provides a different implementation of a method that is already defined in its base class. \n",
    "   It allows the derived class to redefine the behavior of a method inherited from the base class.\n",
    "   Method overriding is one of the ways to achieve polymorphism.'''\n",
    "\n"
   ]
  },
  {
   "cell_type": "code",
   "execution_count": null,
   "id": "3d62b3df-7a2c-499e-a596-3c6960634271",
   "metadata": {},
   "outputs": [],
   "source": []
  }
 ],
 "metadata": {
  "kernelspec": {
   "display_name": "Python 3 (ipykernel)",
   "language": "python",
   "name": "python3"
  },
  "language_info": {
   "codemirror_mode": {
    "name": "ipython",
    "version": 3
   },
   "file_extension": ".py",
   "mimetype": "text/x-python",
   "name": "python",
   "nbconvert_exporter": "python",
   "pygments_lexer": "ipython3",
   "version": "3.10.8"
  }
 },
 "nbformat": 4,
 "nbformat_minor": 5
}
