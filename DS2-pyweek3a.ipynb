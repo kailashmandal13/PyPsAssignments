{
 "cells": [
  {
   "cell_type": "code",
   "execution_count": 31,
   "id": "54853847-f764-4f06-a79e-d895c7843c6c",
   "metadata": {},
   "outputs": [
    {
     "data": {
      "text/plain": [
       "[1, 3, 5, 7, 9, 11, 13, 15, 17, 19, 21, 23, 25]"
      ]
     },
     "execution_count": 31,
     "metadata": {},
     "output_type": "execute_result"
    }
   ],
   "source": [
    "#(1) function:\n",
    "\n",
    "'''def keyword s used to create a General function,\n",
    "   lambda keyword is used to create an anonymous function'''\n",
    "\n",
    "#odd func\n",
    "def oddf():\n",
    "    l=[]\n",
    "    for i in range(1,26):\n",
    "        if i%2 != 0:\n",
    "            l.append(i)\n",
    "    return l\n",
    "\n",
    "oddf()\n",
    "        "
   ]
  },
  {
   "cell_type": "code",
   "execution_count": null,
   "id": "e075d22d-e250-4f6e-b249-a857377ac716",
   "metadata": {},
   "outputs": [],
   "source": []
  },
  {
   "cell_type": "code",
   "execution_count": 51,
   "id": "c08cfbf6-ef9a-4973-998c-69fe4cc236aa",
   "metadata": {},
   "outputs": [
    {
     "name": "stdout",
     "output_type": "stream",
     "text": [
      "return value of *args arg: -10240 \n",
      "\n",
      "return value of **kwargs arg:\n",
      "name : kailash\n",
      "edu : NIT W\n",
      "colour : blue\n",
      "None\n"
     ]
    }
   ],
   "source": [
    "# (2) Variable length arguments:\n",
    "\n",
    "''' *args : used for variable no. of arguments in fuction parameter (non-keyword arguments) '''\n",
    "def mult(*args):\n",
    "    prod =1\n",
    "    for i in args:\n",
    "        prod *= i\n",
    "    return prod\n",
    "\n",
    "print(\"return value of *args arg:\",mult(10,2,4,8,-16),'\\n')\n",
    "\n",
    "\n",
    "''' **kwargs : used for variable no. of keyboard arguments in fuction parameter '''\n",
    "def student(**kwargs):\n",
    "    print(\"return value of **kwargs arg:\")\n",
    "    for key, value in kwargs.items():\n",
    "        print(key,\":\",value)\n",
    "        \n",
    "print(student(name=\"kailash\", edu=\"NIT W\", colour= \"blue\"))\n",
    "\n"
   ]
  },
  {
   "cell_type": "code",
   "execution_count": null,
   "id": "ed1eaa98-a1f5-469a-ba11-8f05146d3f69",
   "metadata": {},
   "outputs": [],
   "source": []
  },
  {
   "cell_type": "code",
   "execution_count": 54,
   "id": "cbffa458-5e33-4d21-a27a-57248bcc1eb2",
   "metadata": {},
   "outputs": [
    {
     "name": "stdout",
     "output_type": "stream",
     "text": [
      "2\n",
      "4\n",
      "6\n",
      "8\n",
      "10\n"
     ]
    }
   ],
   "source": [
    "# (3) Iterator: an iterator is an object that implements the iterator protocol in iterables like list, tuples & strings.\n",
    "''' iter(): method used to initialize the iterator object\n",
    "    next(): method used for iteration & fetch the next item from the iterator'''\n",
    "\n",
    "l2 = [2, 4, 6, 8, 10, 12, 14, 16, 18, 20]\n",
    "iterator = iter(l2)\n",
    "\n",
    "# Use the iterator to print the first five elements\n",
    "for _ in range(5):\n",
    "    iter_next = next(iterator)\n",
    "    print(iter_next)"
   ]
  },
  {
   "cell_type": "code",
   "execution_count": null,
   "id": "986ac6ed-c34a-4105-aea0-17bbba87fb7a",
   "metadata": {},
   "outputs": [],
   "source": []
  },
  {
   "cell_type": "code",
   "execution_count": 55,
   "id": "d07bf55f-4257-4dab-8596-fc0d5a34dc2d",
   "metadata": {},
   "outputs": [
    {
     "name": "stdout",
     "output_type": "stream",
     "text": [
      "0\n",
      "2\n",
      "4\n",
      "6\n",
      "8\n",
      "10\n",
      "12\n",
      "14\n",
      "16\n",
      "18\n"
     ]
    }
   ],
   "source": [
    "# (4) generator function\n",
    "'''function that generates a sequence of values instead of returning a single value.\n",
    "   It uses the 'YIELD' keyword instead of the return keyword to yield a value from the function,\n",
    "   without terminating its execution.'''\n",
    "\n",
    "'''Yield k/w: is the generator for generating func.It iterates over the iterator and retrieves the values,\n",
    "    one by one using the yield statement without actually storing in memory space.'''\n",
    "\n",
    "def even_num(n):\n",
    "    for i in range(n):\n",
    "        if i%2 == 0:\n",
    "            yield i\n",
    "\n",
    "gen = even_num(20)\n",
    "for num in gen:\n",
    "    print(num)"
   ]
  },
  {
   "cell_type": "code",
   "execution_count": null,
   "id": "ca2cb3eb-782c-4b66-98af-bcd961725545",
   "metadata": {},
   "outputs": [],
   "source": []
  },
  {
   "cell_type": "code",
   "execution_count": 72,
   "id": "919ced33-3a74-40ca-b908-c88f0dbff69c",
   "metadata": {},
   "outputs": [],
   "source": [
    "# (5)\n",
    "\n",
    "import math\n",
    "def prime():\n",
    "    n = 2\n",
    "    pl = []\n",
    "    while n <= 1000:\n",
    "        pr = True\n",
    "        sq = int(math.sqrt(n))\n",
    "        for i in range(2,sq):\n",
    "            if n%i == 0:\n",
    "                pr = False\n",
    "                break\n",
    "        if pr:\n",
    "            pl.append(n)\n",
    "            yield n\n",
    "        \n",
    "        n += 1\n",
    "        "
   ]
  },
  {
   "cell_type": "code",
   "execution_count": 73,
   "id": "16f64619-e427-4915-8cdd-34f5f2ddd2f1",
   "metadata": {},
   "outputs": [
    {
     "name": "stdout",
     "output_type": "stream",
     "text": [
      "2\n",
      "3\n",
      "4\n",
      "5\n",
      "6\n",
      "7\n",
      "8\n",
      "9\n",
      "11\n",
      "13\n",
      "15\n",
      "17\n",
      "19\n",
      "23\n",
      "25\n",
      "29\n",
      "31\n",
      "35\n",
      "37\n",
      "41\n",
      "43\n",
      "47\n",
      "49\n",
      "53\n",
      "59\n",
      "61\n",
      "67\n",
      "71\n",
      "73\n",
      "79\n",
      "83\n",
      "89\n",
      "97\n",
      "101\n",
      "103\n",
      "107\n",
      "109\n",
      "113\n",
      "121\n",
      "127\n",
      "131\n",
      "137\n",
      "139\n",
      "143\n",
      "149\n",
      "151\n",
      "157\n",
      "163\n",
      "167\n",
      "169\n",
      "173\n",
      "179\n",
      "181\n",
      "191\n",
      "193\n",
      "197\n",
      "199\n",
      "211\n",
      "223\n",
      "227\n",
      "229\n",
      "233\n",
      "239\n",
      "241\n",
      "251\n",
      "257\n",
      "263\n",
      "269\n",
      "271\n",
      "277\n",
      "281\n",
      "283\n",
      "289\n",
      "293\n",
      "307\n",
      "311\n",
      "313\n",
      "317\n",
      "323\n",
      "331\n",
      "337\n",
      "347\n",
      "349\n",
      "353\n",
      "359\n",
      "361\n",
      "367\n",
      "373\n",
      "379\n",
      "383\n",
      "389\n",
      "397\n",
      "401\n",
      "409\n",
      "419\n",
      "421\n",
      "431\n",
      "433\n",
      "439\n",
      "443\n",
      "449\n",
      "457\n",
      "461\n",
      "463\n",
      "467\n",
      "479\n",
      "487\n",
      "491\n",
      "499\n",
      "503\n",
      "509\n",
      "521\n",
      "523\n",
      "529\n",
      "541\n",
      "547\n",
      "557\n",
      "563\n",
      "569\n",
      "571\n",
      "577\n",
      "587\n",
      "593\n",
      "599\n",
      "601\n",
      "607\n",
      "613\n",
      "617\n",
      "619\n",
      "631\n",
      "641\n",
      "643\n",
      "647\n",
      "653\n",
      "659\n",
      "661\n",
      "673\n",
      "677\n",
      "683\n",
      "691\n",
      "701\n",
      "709\n",
      "719\n",
      "727\n",
      "733\n",
      "739\n",
      "743\n",
      "751\n",
      "757\n",
      "761\n",
      "769\n",
      "773\n",
      "787\n",
      "797\n",
      "809\n",
      "811\n",
      "821\n",
      "823\n",
      "827\n",
      "829\n",
      "839\n",
      "841\n",
      "853\n",
      "857\n",
      "859\n",
      "863\n",
      "877\n",
      "881\n",
      "883\n",
      "887\n",
      "899\n",
      "907\n",
      "911\n",
      "919\n",
      "929\n",
      "937\n",
      "941\n",
      "947\n",
      "953\n",
      "961\n",
      "967\n",
      "971\n",
      "977\n",
      "983\n",
      "991\n",
      "997\n"
     ]
    }
   ],
   "source": [
    "for i in prime():\n",
    "    print (i)"
   ]
  },
  {
   "cell_type": "code",
   "execution_count": 78,
   "id": "f0ddde59-9834-4883-a7b4-039dba245eda",
   "metadata": {},
   "outputs": [
    {
     "name": "stdout",
     "output_type": "stream",
     "text": [
      "2\n",
      "3\n",
      "4\n",
      "5\n",
      "6\n",
      "7\n",
      "8\n",
      "9\n",
      "11\n",
      "13\n",
      "15\n",
      "17\n",
      "19\n",
      "23\n",
      "25\n",
      "29\n",
      "31\n",
      "35\n",
      "37\n",
      "41\n"
     ]
    }
   ],
   "source": [
    "'''the next() method to print the first 20 prime numbers.'''\n",
    "p = prime()\n",
    "for _ in range(20):\n",
    "    print(next(p))"
   ]
  },
  {
   "cell_type": "code",
   "execution_count": null,
   "id": "39a80d25-6961-404c-bc1c-3722e9c053ae",
   "metadata": {},
   "outputs": [],
   "source": []
  },
  {
   "cell_type": "code",
   "execution_count": 81,
   "id": "7f4b9c88-cf6a-4b51-b8de-5d8f5ebe01ee",
   "metadata": {},
   "outputs": [
    {
     "name": "stdout",
     "output_type": "stream",
     "text": [
      "0\n",
      "1\n",
      "1\n",
      "2\n",
      "3\n",
      "5\n",
      "8\n",
      "13\n",
      "21\n",
      "34\n"
     ]
    }
   ],
   "source": [
    "# (6) first 10 Fibonacci numbers using a while loop.\n",
    "a,b = 0,1\n",
    "n=0\n",
    "while n <10:\n",
    "    print(a)\n",
    "    a,b = b, a+b\n",
    "    n += 1\n",
    "    \n"
   ]
  },
  {
   "cell_type": "code",
   "execution_count": null,
   "id": "52a543d4-7481-439a-8e4c-27cce4162be4",
   "metadata": {},
   "outputs": [],
   "source": []
  },
  {
   "cell_type": "code",
   "execution_count": 100,
   "id": "c400767d-66ec-4b41-98d7-ce18e05c0189",
   "metadata": {},
   "outputs": [
    {
     "name": "stdout",
     "output_type": "stream",
     "text": [
      "['p', 'w', 's', 'k', 'i', 'l', 'l', 's']\n"
     ]
    }
   ],
   "source": [
    "# (7) List Comprehension\n",
    "l = \"pwskills\"\n",
    "ll = [i for i in l]\n",
    "print(ll)\n"
   ]
  },
  {
   "cell_type": "code",
   "execution_count": null,
   "id": "8145b34e-6d86-4746-aec5-7a963fe274ed",
   "metadata": {},
   "outputs": [],
   "source": []
  },
  {
   "cell_type": "code",
   "execution_count": 95,
   "id": "42661443-bc39-4c31-8188-b35d9428ecb8",
   "metadata": {},
   "outputs": [
    {
     "name": "stdin",
     "output_type": "stream",
     "text": [
      "enter number:  1661\n"
     ]
    },
    {
     "name": "stdout",
     "output_type": "stream",
     "text": [
      "1661 is a palindrome\n"
     ]
    }
   ],
   "source": [
    "# (8) check whether a given number is Palindrome or not using a while loop\n",
    "\n",
    "def check_palindrome():\n",
    "    n = int(input(\"enter number: \"))\n",
    "    n1 = n\n",
    "    rev = 0\n",
    "\n",
    "    while n1 > 0:\n",
    "        rem = n1 % 10\n",
    "        rev = rev*10 + rem\n",
    "        n1 = n1 // 10\n",
    "\n",
    "    if n == rev:\n",
    "        print(n,\"is a palindrome\")\n",
    "        #return True\n",
    "    else:\n",
    "        print(n,\": apne number ki dubara jaach kare- not palindrome\")\n",
    "        #return False\n",
    "\n",
    "check_palindrome()"
   ]
  },
  {
   "cell_type": "code",
   "execution_count": null,
   "id": "eb43f7e6-3ff7-4577-9632-42b46e81b66d",
   "metadata": {},
   "outputs": [],
   "source": []
  },
  {
   "cell_type": "code",
   "execution_count": 101,
   "id": "40f84838-8272-41e0-a74d-8a6d3cf4010f",
   "metadata": {},
   "outputs": [
    {
     "data": {
      "text/plain": [
       "[1,\n",
       " 3,\n",
       " 5,\n",
       " 7,\n",
       " 9,\n",
       " 11,\n",
       " 13,\n",
       " 15,\n",
       " 17,\n",
       " 19,\n",
       " 21,\n",
       " 23,\n",
       " 25,\n",
       " 27,\n",
       " 29,\n",
       " 31,\n",
       " 33,\n",
       " 35,\n",
       " 37,\n",
       " 39,\n",
       " 41,\n",
       " 43,\n",
       " 45,\n",
       " 47,\n",
       " 49,\n",
       " 51,\n",
       " 53,\n",
       " 55,\n",
       " 57,\n",
       " 59,\n",
       " 61,\n",
       " 63,\n",
       " 65,\n",
       " 67,\n",
       " 69,\n",
       " 71,\n",
       " 73,\n",
       " 75,\n",
       " 77,\n",
       " 79,\n",
       " 81,\n",
       " 83,\n",
       " 85,\n",
       " 87,\n",
       " 89,\n",
       " 91,\n",
       " 93,\n",
       " 95,\n",
       " 97,\n",
       " 99]"
      ]
     },
     "execution_count": 101,
     "metadata": {},
     "output_type": "execute_result"
    }
   ],
   "source": [
    "# (9) print odd numbers from 1 to 100 using list comprehension\n",
    "\n",
    "l3 = [n for n in range(1,101) if n%2 != 0]\n",
    "print(l3\n"
   ]
  },
  {
   "cell_type": "code",
   "execution_count": null,
   "id": "e73c33ef-c9a8-43a2-8610-5eac296cb524",
   "metadata": {},
   "outputs": [],
   "source": []
  }
 ],
 "metadata": {
  "kernelspec": {
   "display_name": "Python 3 (ipykernel)",
   "language": "python",
   "name": "python3"
  },
  "language_info": {
   "codemirror_mode": {
    "name": "ipython",
    "version": 3
   },
   "file_extension": ".py",
   "mimetype": "text/x-python",
   "name": "python",
   "nbconvert_exporter": "python",
   "pygments_lexer": "ipython3",
   "version": "3.10.8"
  }
 },
 "nbformat": 4,
 "nbformat_minor": 5
}
