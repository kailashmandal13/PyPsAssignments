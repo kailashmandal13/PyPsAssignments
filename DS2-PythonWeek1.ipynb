{
 "cells": [
  {
   "cell_type": "code",
   "execution_count": 1,
   "id": "99907540-f184-42aa-818f-e5ff364637a6",
   "metadata": {},
   "outputs": [],
   "source": [
    "# 1.Create one variable containing following type of data:\n",
    "\n",
    "#string\n",
    "string= \"Hi Mentors\"\n",
    "\n",
    "#list\n",
    "ls= [2,4,8,16,'python',9.8,8*16/4]\n",
    "\n",
    "#float\n",
    "ft= 99.999\n",
    "\n",
    "#tuples\n",
    "tp= ('p','y',2.0,2023)"
   ]
  },
  {
   "cell_type": "code",
   "execution_count": 3,
   "id": "20248fae-b534-4b63-8fba-bff6c9768a67",
   "metadata": {},
   "outputs": [],
   "source": [
    "#print(string,ls,ft,tp)"
   ]
  },
  {
   "cell_type": "code",
   "execution_count": 8,
   "id": "1d1846d2-27c4-45af-ad27-6535b332bc57",
   "metadata": {},
   "outputs": [
    {
     "name": "stdout",
     "output_type": "stream",
     "text": [
      "<class 'str'>\n",
      "<class 'str'>\n",
      "<class 'list'>\n",
      "<class 'float'>\n"
     ]
    }
   ],
   "source": [
    "# 2.What will be the data type of the given variable:\n",
    "\n",
    "\n",
    "var1 = ' '                            #ANS= STRING\n",
    "#print(type(var1))  \n",
    "\n",
    "var2 = '[ DS , ML , Python]'          #ANS= STRING\n",
    "#print(type(var2))\n",
    "\n",
    "var3 = [ 'DS' , 'ML' , 'Python' ]     #ANS= LIST\n",
    "#print(type(var3))\n",
    "\n",
    "var4 = 1.                             #ANS= FLOAT\n",
    "#print(type(var4))\n"
   ]
  },
  {
   "cell_type": "code",
   "execution_count": 14,
   "id": "52506b80-be2c-4f99-8dff-4ba9eada82c8",
   "metadata": {},
   "outputs": [
    {
     "name": "stdout",
     "output_type": "stream",
     "text": [
      "4.0 <class 'float'>\n",
      "0\n",
      "4 <class 'int'> \n",
      " 4.0 <class 'float'>\n",
      "64\n"
     ]
    }
   ],
   "source": [
    "# 3.use of the following operators\n",
    "\n",
    "#a) Division operator(/): this arithmetic operatot divides first number by second & returns quotient value in float as output\n",
    "div = 24/6\n",
    "print(div, type(div))\n",
    "\n",
    "#b) modulo operator(%): this arithmetic operatot returns remainder of the div\n",
    "mod= 24%6\n",
    "print(mod)\n",
    "\n",
    "#c) Floor Division operator(/): this arithmetic operator divides first number by second & returns quotient value in rounded to nearest whole number or floor value as output.\n",
    "divn= 24//6\n",
    "divf= 24.0//6\n",
    "print(divn, type(divn),\"\\n\",divf, type(divf))\n",
    "#d) Exponential operator(**): this arithmetic operator results 1st num raise to the power of 2nd num\n",
    "exp= 2**6\n",
    "print(exp)      "
   ]
  },
  {
   "cell_type": "code",
   "execution_count": 26,
   "id": "839450eb-c64a-4426-8b6c-3790d7845c2b",
   "metadata": {},
   "outputs": [
    {
     "name": "stdout",
     "output_type": "stream",
     "text": [
      "rohan : of data type=  str \n",
      "\n",
      "10 : of data type=  int \n",
      "\n",
      "1024 : of data type=  int \n",
      "\n",
      "k : of data type=  str \n",
      "\n",
      "2.0 : of data type=  float \n",
      "\n",
      "[3, 2, 'o'] : of data type=  list \n",
      "\n",
      "-8 : of data type=  int \n",
      "\n",
      "99 : of data type=  int \n",
      "\n",
      "0 : of data type=  int \n",
      "\n",
      "for20 : of data type=  str \n",
      "\n"
     ]
    }
   ],
   "source": [
    "# 4. Create a list of length 10 of your choice containing multiple types of data. Using for loop print the element and its data type.\n",
    "\n",
    "list2= ['rohan',10,1024,'k',2.0, [3,2,'o'],-8,9*11,2-2,\"for20\"]\n",
    "len(list2)\n",
    "\n",
    "for i in list2:\n",
    "    print(i,\": of data type= \", type(i).__name__,'\\n')\n",
    "    "
   ]
  },
  {
   "cell_type": "code",
   "execution_count": 46,
   "id": "f5fa4c5c-6e81-42ad-9261-d0a619a32744",
   "metadata": {},
   "outputs": [
    {
     "name": "stdin",
     "output_type": "stream",
     "text": [
      " 1024\n",
      " 4\n"
     ]
    },
    {
     "name": "stdout",
     "output_type": "stream",
     "text": [
      "both are purely divisible in : 5 times\n"
     ]
    }
   ],
   "source": [
    "# 5.verify if the number A is purely divisible by number B and cont using while loop\n",
    "\n",
    "A= int(input())\n",
    "B= int(input())\n",
    "count= 0\n",
    "\n",
    "if A==0:\n",
    "    print(0)\n",
    "elif A==0 and B==0:\n",
    "    print(\"invalid result : undefined\")\n",
    "elif B==0:\n",
    "    print(\"undefined\")\n",
    "#elif (A % B) != 0:\n",
    "#    print(A,\" is not purely divisible by \",B)\n",
    "\n",
    "else:\n",
    "    #if (A % B) != 0:\n",
    "    #    print(A,\" is not purely divisible by \",B)\n",
    "    #else:\n",
    "        \n",
    "    while A % B == 0:\n",
    "        A= A // B\n",
    "        count+= 1\n",
    "    \n",
    "    \n",
    "if count == 0:\n",
    "    print(\"both are not purely divisible\")\n",
    "else:\n",
    "    print(\"both are purely divisible in :\", count, \"times\")\n"
   ]
  },
  {
   "cell_type": "code",
   "execution_count": 56,
   "id": "df5f76d2-9fce-4929-b12e-26432caf44a7",
   "metadata": {},
   "outputs": [
    {
     "name": "stdout",
     "output_type": "stream",
     "text": [
      "10 is NOT divisible by 3\n",
      "1024 is NOT divisible by 3\n",
      "9909 is Divisible by 3\n",
      "23 is NOT divisible by 3\n",
      "197 is NOT divisible by 3\n",
      "-8 is NOT divisible by 3\n",
      "0 is Divisible by 3\n",
      "450 is Divisible by 3\n",
      "3 is Divisible by 3\n",
      "36 is Divisible by 3\n",
      "112 is NOT divisible by 3\n",
      "1111111 is NOT divisible by 3\n",
      "999 is Divisible by 3\n",
      "27 is Divisible by 3\n",
      "0 is Divisible by 3\n",
      "82 is NOT divisible by 3\n",
      "729 is Divisible by 3\n",
      "27 is Divisible by 3\n",
      "100 is NOT divisible by 3\n",
      "30000300000000000000012 is Divisible by 3\n",
      "303 is Divisible by 3\n",
      "-33 is Divisible by 3\n",
      "-3 is Divisible by 3\n",
      "216 is Divisible by 3\n",
      "32.0 is NOT divisible by 3\n"
     ]
    }
   ],
   "source": [
    "# 6. Create a list containing 25 int type data. Using for loop and if-else condition print if the element is\n",
    "#    divisible by 3 or not.\n",
    "\n",
    "\n",
    "list3= [10,1024,9909,23,197,-8,2-2,450,3,36,112,1111111,999,9*3-3+3,0,82,3**6,27+0,100,30000300000000000000012,303,-33,-2-1,6*6*6,96/3]\n",
    "len(list3)\n",
    "\n",
    "for i in list3:\n",
    "    if i % 3 == 0:\n",
    "        print(i,\"is Divisible by 3\") \n",
    "    else:\n",
    "        print(i,\"is NOT divisible by 3\")\n",
    "        "
   ]
  },
  {
   "cell_type": "raw",
   "id": "4ea49aa9-c81f-4d5e-8ae7-bf173412119c",
   "metadata": {},
   "source": [
    "# 7.mutable and immutable data types:\n",
    "\n",
    "Mutable data types: whose values can be changes/modified after they are created.\n",
    "eg- list, dict, set.\n",
    "\n",
    "Immutable data types: whose values cannot be changed/modified once they are created. \n",
    "-here existing object can't be changed. once the obejct is created it cant be modified but any operation evenif it seems to be modify but actually it creates new object with the changed value, thats why the new object reference to different memory location. \n",
    "eg- int, float, complex, string, tuple."
   ]
  },
  {
   "cell_type": "code",
   "execution_count": 10,
   "id": "51491018-84fd-4f8d-9e23-425b6c2dd608",
   "metadata": {},
   "outputs": [
    {
     "name": "stdout",
     "output_type": "stream",
     "text": [
      "before modify, reference to location:  140045598573248\n",
      "[2, 64, 5, 'k', 22]\n",
      "After modify, reference to location:  140045598573248\n",
      "\n",
      " both the references are same, cuz its modified in same object\n"
     ]
    }
   ],
   "source": [
    "# Mutable\n",
    "list5=[2,64,1024,'k']\n",
    "print(\"before modify, reference to location: \", id(list5))\n",
    "list5[2]= 5              \n",
    "list5.append(22)\n",
    "print(list5)\n",
    "print(\"After modify, reference to location: \", id(list5))\n",
    "print(\"\\n both the references are same, cuz its modified in same object\")"
   ]
  },
  {
   "cell_type": "code",
   "execution_count": 16,
   "id": "aa9bfa1e-1139-4da6-a76b-14e06e565d5b",
   "metadata": {},
   "outputs": [
    {
     "name": "stdout",
     "output_type": "stream",
     "text": [
      "before modify, reference to location:  140045598515632\n",
      "kailash \n",
      "\n",
      "kailashmandal\n",
      "After modify, reference to location:  140045598483568\n"
     ]
    }
   ],
   "source": [
    "#immutable\n",
    "name='kailash'\n",
    "print(\"before modify, reference to location: \", id(name))\n",
    "print(name,'\\n')\n",
    "\n",
    "name+= 'mandal'\n",
    "print(name)\n",
    "#print(\"\\n\",id(name))\n",
    "print(\"After modify, reference to location: \", id(name))\n",
    "print(\"\\n both the references are different, cuz its not modified in same object. Thus new object reference to different memory location\")"
   ]
  },
  {
   "cell_type": "code",
   "execution_count": null,
   "id": "be2efa33-15e6-4299-a2e7-7de7ce93cd5a",
   "metadata": {},
   "outputs": [],
   "source": []
  },
  {
   "cell_type": "code",
   "execution_count": null,
   "id": "2205a6a0-30c8-4e06-ae67-92b4834fa87c",
   "metadata": {},
   "outputs": [],
   "source": []
  }
 ],
 "metadata": {
  "kernelspec": {
   "display_name": "Python 3 (ipykernel)",
   "language": "python",
   "name": "python3"
  },
  "language_info": {
   "codemirror_mode": {
    "name": "ipython",
    "version": 3
   },
   "file_extension": ".py",
   "mimetype": "text/x-python",
   "name": "python",
   "nbconvert_exporter": "python",
   "pygments_lexer": "ipython3",
   "version": "3.10.8"
  }
 },
 "nbformat": 4,
 "nbformat_minor": 5
}
