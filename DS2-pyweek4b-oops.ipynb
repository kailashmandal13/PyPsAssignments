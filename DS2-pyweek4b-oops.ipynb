{
 "cells": [
  {
   "cell_type": "code",
   "execution_count": 4,
   "id": "0c208b11-916a-4932-ab7b-dc6e619958a3",
   "metadata": {},
   "outputs": [
    {
     "name": "stdout",
     "output_type": "stream",
     "text": [
      "Course details:\n",
      "DS/ML\n",
      "2023\n"
     ]
    }
   ],
   "source": [
    "#1. Class and Object with respect to Object-Oriented Programming.\n",
    "\n",
    "'''Class: class creates user define data structures, which holds its own -data member & -member function. class is like\n",
    "          blueprint or a template for creating objects.\n",
    "   Object: object is an instance of a class. It is created using the blueprint provided by the class.\n",
    "           Each object has its own set of attribute values and can execute the behaviors defined in the class (methods).\n",
    "'''\n",
    "class pwskills:                        #class\n",
    "    def __init__(self, course, year):\n",
    "        self.sub = course\n",
    "        self.year = year\n",
    "    \n",
    "    def display(self):\n",
    "        print(\"Course details:\", self.sub, self.year, sep='\\n')\n",
    "\n",
    "ps = pwskills('DS/ML', 2023)           #object\n",
    "ps.display()\n"
   ]
  },
  {
   "cell_type": "code",
   "execution_count": null,
   "id": "423d9dc5-4fd7-42cb-a0b4-c6dad673fbc4",
   "metadata": {},
   "outputs": [],
   "source": []
  },
  {
   "cell_type": "code",
   "execution_count": null,
   "id": "940ac11a-86ed-42fa-b112-cfe719901ddf",
   "metadata": {},
   "outputs": [],
   "source": [
    "#2. four pillars of OOPs:\n",
    "'''\n",
    "1. Encapsulation\n",
    "2. Polymorphism\n",
    "3. Inheritance\n",
    "4. Abstraction\n",
    "'''"
   ]
  },
  {
   "cell_type": "code",
   "execution_count": null,
   "id": "352d98c7-209a-4a87-812e-b16901865ac7",
   "metadata": {},
   "outputs": [],
   "source": []
  },
  {
   "cell_type": "code",
   "execution_count": 8,
   "id": "76e1cb52-d45f-4c7e-914f-ae6689bb118d",
   "metadata": {},
   "outputs": [
    {
     "name": "stdout",
     "output_type": "stream",
     "text": [
      "Hello, my name is Chomulal. I am having salary of 25 LPA.\n"
     ]
    }
   ],
   "source": [
    "#3. why the __init__() function is used?\n",
    "'''\n",
    "__init__() is known as Initialization method/constructor. Main purpose is to initialize the attributes of an object \n",
    "with given values.\n",
    "'''\n",
    "\n",
    "class Employee:\n",
    "    def __init__(self, ename, sal):\n",
    "        self.empname = ename\n",
    "        self.salary = sal\n",
    "\n",
    "    def showoff(self):\n",
    "        print(f\"Hello, my name is {self.empname}. I am having salary of {self.salary} LPA.\")\n",
    "\n",
    "\n",
    "# initializing attributes using the constructor\n",
    "lkdn = Employee(\"Chomulal\", 25)\n",
    "lkdn.showoff()\n"
   ]
  },
  {
   "cell_type": "code",
   "execution_count": null,
   "id": "9fd85716-75b1-425d-a25e-a3a9c0567b11",
   "metadata": {},
   "outputs": [],
   "source": []
  },
  {
   "cell_type": "code",
   "execution_count": 9,
   "id": "119b7c7b-6763-4903-9ba7-7f796b0b7f91",
   "metadata": {},
   "outputs": [
    {
     "name": "stdout",
     "output_type": "stream",
     "text": [
      "78.5\n",
      "200.96\n"
     ]
    }
   ],
   "source": [
    "#4. Why self is used in OOPs?\n",
    "''' In Oops, \"self\" parameter is a convention used to refer to the instance of a class within its methods. \n",
    "    It acts as a reference to the current object or instance on which a method is being called. \n",
    "    The use of self allows accessing and manipulating the object's attributes and invoking its methods.\n",
    "'''\n",
    "\n",
    "class Circle:\n",
    "    def __init__(self, radius):\n",
    "        self.radius = radius\n",
    "\n",
    "    def calculate_area(self):\n",
    "        area = 3.14*self.radius**2\n",
    "        return area\n",
    "\n",
    "\n",
    "circle1 = Circle(5)     #using self value of r is initialised/passed to 5\n",
    "circle2 = Circle(8)\n",
    "\n",
    "# Accessing instance attributes using self\n",
    "print(circle1.calculate_area()) \n",
    "print(circle2.calculate_area()) \n"
   ]
  },
  {
   "cell_type": "code",
   "execution_count": null,
   "id": "773c746e-055e-42a5-a69f-d5c830b03fbf",
   "metadata": {},
   "outputs": [],
   "source": []
  },
  {
   "cell_type": "code",
   "execution_count": 11,
   "id": "e7514487-93da-411c-84d1-d3f392a0c5f9",
   "metadata": {},
   "outputs": [
    {
     "name": "stdout",
     "output_type": "stream",
     "text": [
      "billi\n",
      "billi is dancing. Inherited from parent\n",
      "Meowww!\n"
     ]
    }
   ],
   "source": [
    "#5. Inheritance : \n",
    "'''allows you to create new classes (derived or child classes) based on existing classes (base or parent classes). \n",
    "   It enables the derived classes to inherit attributes and behaviors from their parent classes.\n",
    "'''\n",
    "\n",
    "class Animal:\n",
    "    def __init__(self, name):\n",
    "        self.name = name\n",
    "\n",
    "    def eat(self):\n",
    "        print(f\"{self.name} is dancing. Inherited from parent\")\n",
    "\n",
    "\n",
    "class Cat(Animal):\n",
    "    def meow(self):\n",
    "        print(\"Meowww!\")\n",
    "\n",
    "\n",
    "#derived class\n",
    "my_cat = Cat(\"billi\")\n",
    "\n",
    "print(my_cat.name)\n",
    "my_cat.eat()\n",
    "\n",
    "my_cat.meow()\n"
   ]
  },
  {
   "cell_type": "code",
   "execution_count": null,
   "id": "dccb2017-6c36-4016-80d1-704da4ec13fc",
   "metadata": {},
   "outputs": [],
   "source": []
  },
  {
   "cell_type": "code",
   "execution_count": null,
   "id": "9cbd583b-db0f-412d-a84c-7dd699e77127",
   "metadata": {},
   "outputs": [],
   "source": []
  },
  {
   "cell_type": "code",
   "execution_count": null,
   "id": "85d26841-5006-49bd-949b-7cd8c8901df2",
   "metadata": {},
   "outputs": [],
   "source": []
  },
  {
   "cell_type": "code",
   "execution_count": null,
   "id": "d81edfdd-0926-4a0a-932d-0d59884171f7",
   "metadata": {},
   "outputs": [],
   "source": []
  }
 ],
 "metadata": {
  "kernelspec": {
   "display_name": "Python 3 (ipykernel)",
   "language": "python",
   "name": "python3"
  },
  "language_info": {
   "codemirror_mode": {
    "name": "ipython",
    "version": 3
   },
   "file_extension": ".py",
   "mimetype": "text/x-python",
   "name": "python",
   "nbconvert_exporter": "python",
   "pygments_lexer": "ipython3",
   "version": "3.10.8"
  }
 },
 "nbformat": 4,
 "nbformat_minor": 5
}
